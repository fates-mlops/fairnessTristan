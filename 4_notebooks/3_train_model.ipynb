{
 "cells": [
  {
   "cell_type": "code",
   "execution_count": 1,
   "id": "50b356f4",
   "metadata": {},
   "outputs": [],
   "source": [
    "from sklearn.ensemble import RandomForestClassifier\n",
    "from sklearn.metrics import f1_score, accuracy_score\n",
    "import pandas as pd\n",
    "import pickle\n",
    "import json"
   ]
  },
  {
   "cell_type": "code",
   "execution_count": 2,
   "id": "af0570a0",
   "metadata": {},
   "outputs": [],
   "source": [
    "INPUT = '../1_data/3_split/'\n",
    "\n",
    "MODEL_TYPE = 'sklearn RandomForestClassifier'\n",
    "\n",
    "HYPERPARAM = {\n",
    "    \"n_estimators\": 100,\n",
    "    \"max_depth\": 10,\n",
    "    \"random_state\": 1\n",
    "}\n",
    "\n",
    "OUTPUT = '../2_models/'"
   ]
  },
  {
   "cell_type": "code",
   "execution_count": 3,
   "id": "0c47bc85",
   "metadata": {},
   "outputs": [],
   "source": [
    "X_train = pd.read_csv(INPUT + 'X_train.csv', index_col=0)\n",
    "y_train = pd.read_csv(INPUT + 'y_train.csv', index_col=0).values.ravel()\n",
    "X_test = pd.read_csv(INPUT + 'X_test.csv', index_col=0)\n",
    "y_test = pd.read_csv(INPUT + 'y_test.csv', index_col=0).values.ravel()"
   ]
  },
  {
   "cell_type": "code",
   "execution_count": null,
   "id": "43a0a3b8",
   "metadata": {},
   "outputs": [],
   "source": [
    "model = RandomForestClassifier(**HYPERPARAM)\n",
    "model.fit(X_train, y_train)\n",
    "\n",
    "y_pred = model.predict(X_test)\n",
    "\n",
    "acc = accuracy_score(y_test, y_pred)\n",
    "f1 = f1_score(y_test, y_pred)\n",
    "\n",
    "model_json = {\n",
    "    'type' : MODEL_TYPE,\n",
    "    'hyperparameters' : HYPERPARAM,\n",
    "    'metrics' : {'accuracy' : acc, 'f1_score' : f1}\n",
    "}\n",
    "\n",
    "with open(OUTPUT + \"random_forest_model.pkl\", \"wb\") as f:\n",
    "    pickle.dump(model, f)\n",
    "\n",
    "with open(OUTPUT + \"metadata.json\", \"w\") as f:\n",
    "    json.dump(model_json, f, indent=4)"
   ]
  },
  {
   "cell_type": "code",
   "execution_count": null,
   "id": "434f5b71",
   "metadata": {},
   "outputs": [],
   "source": []
  }
 ],
 "metadata": {
  "kernelspec": {
   "display_name": ".venv",
   "language": "python",
   "name": "python3"
  },
  "language_info": {
   "codemirror_mode": {
    "name": "ipython",
    "version": 3
   },
   "file_extension": ".py",
   "mimetype": "text/x-python",
   "name": "python",
   "nbconvert_exporter": "python",
   "pygments_lexer": "ipython3",
   "version": "3.13.3"
  }
 },
 "nbformat": 4,
 "nbformat_minor": 5
}
