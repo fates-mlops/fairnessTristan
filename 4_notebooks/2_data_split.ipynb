{
 "cells": [
  {
   "cell_type": "code",
   "execution_count": 1,
   "id": "e4cb15c5",
   "metadata": {},
   "outputs": [],
   "source": [
    "# Données préparées\n",
    "INPUT_PATH = '../1_data/2_preprocessed/'\n",
    "INPUT_FILE = 'x0.csv'\n",
    "\n",
    "# Variable cible\n",
    "Y_COL = 'income'\n",
    "\n",
    "# Train/Test size\n",
    "TEST_SIZE = 0.2\n",
    "TRAIN_SIZE = 1 - TEST_SIZE\n",
    "\n",
    "# Seed aléatoire\n",
    "RANDOM_STATE = 42\n",
    "\n",
    "split_param = {\n",
    "    'sample' : INPUT_FILE,\n",
    "    'target_column' : Y_COL,\n",
    "    'test_size' : TEST_SIZE,\n",
    "    'train_size' : TRAIN_SIZE,\n",
    "    'seed' : RANDOM_STATE\n",
    "}\n",
    "\n",
    "# Split\n",
    "OUTPUT_PATH = '../1_data/3_split/'"
   ]
  },
  {
   "cell_type": "code",
   "execution_count": 2,
   "id": "3feb7191",
   "metadata": {},
   "outputs": [],
   "source": [
    "import pandas as pd\n",
    "from sklearn.model_selection import train_test_split\n",
    "\n",
    "df = pd.read_csv(INPUT_PATH + INPUT_FILE, index_col=0)\n",
    "\n",
    "train, test = train_test_split(df, test_size=TEST_SIZE, random_state=RANDOM_STATE, shuffle=True)\n",
    "\n",
    "X_train = train.drop(Y_COL, axis=1)\n",
    "y_train = train[Y_COL]\n",
    "\n",
    "X_test = test.drop(Y_COL, axis=1)\n",
    "y_test = test[Y_COL]"
   ]
  },
  {
   "cell_type": "code",
   "execution_count": 3,
   "id": "eda8d087",
   "metadata": {},
   "outputs": [],
   "source": [
    "X_train.to_csv(OUTPUT_PATH + 'X_train.csv')\n",
    "y_train.to_csv(OUTPUT_PATH + 'y_train.csv')\n",
    "\n",
    "X_test.to_csv(OUTPUT_PATH + 'X_test.csv')\n",
    "y_test.to_csv(OUTPUT_PATH + 'y_test.csv')\n",
    "\n",
    "import json\n",
    "\n",
    "with open(OUTPUT_PATH + \"metadata.json\", \"w\", encoding=\"utf-8\") as f:\n",
    "    json.dump(split_param, f, indent=4, ensure_ascii=False)"
   ]
  },
  {
   "cell_type": "code",
   "execution_count": null,
   "id": "4e1d9ae0",
   "metadata": {},
   "outputs": [],
   "source": []
  }
 ],
 "metadata": {
  "kernelspec": {
   "display_name": ".venv",
   "language": "python",
   "name": "python3"
  },
  "language_info": {
   "codemirror_mode": {
    "name": "ipython",
    "version": 3
   },
   "file_extension": ".py",
   "mimetype": "text/x-python",
   "name": "python",
   "nbconvert_exporter": "python",
   "pygments_lexer": "ipython3",
   "version": "3.13.3"
  }
 },
 "nbformat": 4,
 "nbformat_minor": 5
}
