{
 "cells": [
  {
   "cell_type": "code",
   "execution_count": 1,
   "id": "e1ad2f83",
   "metadata": {},
   "outputs": [],
   "source": [
    "from fairlearn.metrics import demographic_parity_difference, equalized_odds_difference, selection_rate\n",
    "import pickle\n",
    "import json\n",
    "import pandas as pd\n",
    "import numpy as np"
   ]
  },
  {
   "cell_type": "code",
   "execution_count": 2,
   "id": "aee1af5d",
   "metadata": {},
   "outputs": [],
   "source": [
    "MODEL_PATH = '../2_models/'\n",
    "MODEL_NAME = 'random_forest_model'\n",
    "\n",
    "DATA_PATH = '../1_data/3_split/'\n",
    "\n",
    "SENSITIVE_FEATURE = 'sex'"
   ]
  },
  {
   "cell_type": "code",
   "execution_count": 4,
   "id": "8d08a695",
   "metadata": {},
   "outputs": [],
   "source": [
    "# Récupération du modèle\n",
    "with open(MODEL_PATH + MODEL_NAME + '.pkl', \"rb\") as f:\n",
    "    loaded_model = pickle.load(f)\n",
    "\n",
    "# Récupération des données\n",
    "X_test = pd.read_csv(DATA_PATH + 'X_test.csv', index_col=0)\n",
    "y_test = pd.read_csv(DATA_PATH + 'y_test.csv', index_col=0)\n",
    "S_test = X_test[SENSITIVE_FEATURE]\n",
    "y_pred = loaded_model.predict(X_test)\n",
    "\n",
    "dp = demographic_parity_difference(y_test, y_pred, sensitive_features=S_test)\n",
    "\n",
    "eo = equalized_odds_difference(y_test, y_pred, sensitive_features=S_test)\n",
    "\n",
    "group_0 = y_pred[S_test == 0]\n",
    "group_1 = y_pred[S_test == 1]\n",
    "rate_0 = np.mean(group_0)\n",
    "rate_1 = np.mean(group_1)\n",
    "di = min(rate_0, rate_1) / max(rate_0, rate_1)\n",
    "\n",
    "with open(MODEL_PATH + MODEL_NAME + '.json', \"r\") as f:\n",
    "    model_json = json.load(f)\n",
    "\n",
    "model_json['metriques']['fairness'] = {\n",
    "    'demographic_parity' : dp,\n",
    "    'equalized_odds' : eo,\n",
    "    'disparate_impact' : di\n",
    "} \n",
    "\n",
    "with open(MODEL_PATH + MODEL_NAME + '.json', \"w\") as f:\n",
    "    json.dump(model_json, f, indent=4)"
   ]
  },
  {
   "cell_type": "code",
   "execution_count": null,
   "id": "532194c6",
   "metadata": {},
   "outputs": [],
   "source": []
  }
 ],
 "metadata": {
  "kernelspec": {
   "display_name": ".venv",
   "language": "python",
   "name": "python3"
  },
  "language_info": {
   "codemirror_mode": {
    "name": "ipython",
    "version": 3
   },
   "file_extension": ".py",
   "mimetype": "text/x-python",
   "name": "python",
   "nbconvert_exporter": "python",
   "pygments_lexer": "ipython3",
   "version": "3.13.3"
  }
 },
 "nbformat": 4,
 "nbformat_minor": 5
}
