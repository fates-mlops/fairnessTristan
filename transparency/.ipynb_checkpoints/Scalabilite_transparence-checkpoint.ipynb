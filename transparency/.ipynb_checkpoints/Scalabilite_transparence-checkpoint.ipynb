{
 "cells": [
  {
   "cell_type": "code",
   "execution_count": 8,
   "id": "df9e7424-50ad-4475-ba53-6ac79d430998",
   "metadata": {},
   "outputs": [],
   "source": [
    "import pandas as pd\n",
    "# import pygwalker as pyg\n",
    "\n",
    "#pour créer des widgets interactifs (boutons, menus, etc.)\n",
    "import ipywidgets as widgets\n",
    "# pour afficher ou effacer dynamiquement du contenu dans une cellule Jupyter\n",
    "from IPython.display import display, clear_output\n",
    "\n",
    "#jauge\n",
    "import ipywidgets as widgets\n",
    "from IPython.display import display, clear_output, Markdown"
   ]
  },
  {
   "cell_type": "code",
   "execution_count": 66,
   "id": "98efff4e-25b1-408f-b8e1-03e6f3ec3160",
   "metadata": {},
   "outputs": [],
   "source": [
    "# Transparence des données -> vaut pour 1/6 de la rep final\n",
    "tdd = 0 \n",
    "# Transparence du modèle (algorithmique)\n",
    "tdm = 0\n",
    "# Explicabilité des décisions\n",
    "edd = 0\n",
    "# Gouvernance et redevabilité\n",
    "ger = 0\n",
    "# Accessibilité et clarté pour le public\n",
    "aecplp = 0\n",
    "# Conformité aux normes et régulations\n",
    "caner = 0"
   ]
  },
  {
   "cell_type": "code",
   "execution_count": 94,
   "id": "ab8ce832-16e5-4b58-b835-a45854710ad0",
   "metadata": {},
   "outputs": [
    {
     "data": {
      "text/markdown": [
       "# Formulaire"
      ],
      "text/plain": [
       "<IPython.core.display.Markdown object>"
      ]
     },
     "metadata": {},
     "output_type": "display_data"
    },
    {
     "data": {
      "application/vnd.jupyter.widget-view+json": {
       "model_id": "1a2610a041ff4fe7981cc9b00f16e58b",
       "version_major": 2,
       "version_minor": 0
      },
      "text/plain": [
       "HTML(value=\"<h3 style='color:dark;'>---Transparence des données¶---</h3>\")"
      ]
     },
     "metadata": {},
     "output_type": "display_data"
    },
    {
     "data": {
      "application/vnd.jupyter.widget-view+json": {
       "model_id": "1e978756327d4442aaefb683b5811616",
       "version_major": 2,
       "version_minor": 0
      },
      "text/plain": [
       "ToggleButtons(button_style='info', description='Est-ce que les sources de données sont clairement identifiées …"
      ]
     },
     "metadata": {},
     "output_type": "display_data"
    },
    {
     "data": {
      "application/vnd.jupyter.widget-view+json": {
       "model_id": "8b864c25d0804c41b2177a2b303024b1",
       "version_major": 2,
       "version_minor": 0
      },
      "text/plain": [
       "ToggleButtons(button_style='info', description='Avez-vous un processus de nettoyage et traitement des informat…"
      ]
     },
     "metadata": {},
     "output_type": "display_data"
    },
    {
     "data": {
      "application/vnd.jupyter.widget-view+json": {
       "model_id": "d5f5b81938444ea197b4cdce300751b9",
       "version_major": 2,
       "version_minor": 0
      },
      "text/plain": [
       "ToggleButtons(button_style='info', description='Avez-vous les archives de recherches et de réponses ?', option…"
      ]
     },
     "metadata": {},
     "output_type": "display_data"
    },
    {
     "data": {
      "application/vnd.jupyter.widget-view+json": {
       "model_id": "0faf6297e166413bb7cb903b6ccdb1ea",
       "version_major": 2,
       "version_minor": 0
      },
      "text/plain": [
       "HTML(value=\"<h3 style='color:dark;'>---Transparence du modèle (algorithmique)---</h3>\")"
      ]
     },
     "metadata": {},
     "output_type": "display_data"
    },
    {
     "data": {
      "application/vnd.jupyter.widget-view+json": {
       "model_id": "623bb59b93ae4818a6096549b896777e",
       "version_major": 2,
       "version_minor": 0
      },
      "text/plain": [
       "ToggleButtons(button_style='info', description='Avez-vous une description technique du modèle ?', options=('Ou…"
      ]
     },
     "metadata": {},
     "output_type": "display_data"
    },
    {
     "data": {
      "application/vnd.jupyter.widget-view+json": {
       "model_id": "f305732438e94e0cb6d1ee1716e118ac",
       "version_major": 2,
       "version_minor": 0
      },
      "text/plain": [
       "ToggleButtons(button_style='info', description='Avez-vous donné accès au code source ?', options=('Oui', 'Non'…"
      ]
     },
     "metadata": {},
     "output_type": "display_data"
    },
    {
     "data": {
      "application/vnd.jupyter.widget-view+json": {
       "model_id": "028884e048d14bc299bbf15fed3f1c91",
       "version_major": 2,
       "version_minor": 0
      },
      "text/plain": [
       "ToggleButtons(button_style='info', description='Mettez-vous à disposition les choix techniques ainsi que les l…"
      ]
     },
     "metadata": {},
     "output_type": "display_data"
    },
    {
     "data": {
      "application/vnd.jupyter.widget-view+json": {
       "model_id": "e8f3a5b7d57e4526af3165bd5df9bc51",
       "version_major": 2,
       "version_minor": 0
      },
      "text/plain": [
       "ToggleButtons(button_style='info', description=\"Avez-vous fait un versionning de chaque étapes d'évolution ? \"…"
      ]
     },
     "metadata": {},
     "output_type": "display_data"
    },
    {
     "data": {
      "application/vnd.jupyter.widget-view+json": {
       "model_id": "c90034ed3d90486aa1cee13589453075",
       "version_major": 2,
       "version_minor": 0
      },
      "text/plain": [
       "HTML(value=\"<h3 style='color:dark;'>---Explicabilité des décisions---</h3>\")"
      ]
     },
     "metadata": {},
     "output_type": "display_data"
    },
    {
     "data": {
      "application/vnd.jupyter.widget-view+json": {
       "model_id": "24b2fe4ac2654ad085a1753c5e77b679",
       "version_major": 2,
       "version_minor": 0
      },
      "text/plain": [
       "ToggleButtons(button_style='info', description='Est-ce que vous avez expliqué le fonctionnement flobal du syst…"
      ]
     },
     "metadata": {},
     "output_type": "display_data"
    },
    {
     "data": {
      "application/vnd.jupyter.widget-view+json": {
       "model_id": "72c05ecf57d843b098e6484403ebf439",
       "version_major": 2,
       "version_minor": 0
      },
      "text/plain": [
       "ToggleButtons(button_style='info', description=\"Y a-til des outils ou interfaces d'aide a la compréhension pou…"
      ]
     },
     "metadata": {},
     "output_type": "display_data"
    },
    {
     "data": {
      "application/vnd.jupyter.widget-view+json": {
       "model_id": "849cd97d1a92469cbfa7a62abffc49bc",
       "version_major": 2,
       "version_minor": 0
      },
      "text/plain": [
       "ToggleButtons(button_style='info', description='Avez-vous donné les informations avec un language non expert (…"
      ]
     },
     "metadata": {},
     "output_type": "display_data"
    },
    {
     "data": {
      "application/vnd.jupyter.widget-view+json": {
       "model_id": "c8e2ddac113645d3b9dbc09084d7a453",
       "version_major": 2,
       "version_minor": 0
      },
      "text/plain": [
       "Button(button_style='success', description='Valider', style=ButtonStyle())"
      ]
     },
     "metadata": {},
     "output_type": "display_data"
    },
    {
     "data": {
      "application/vnd.jupyter.widget-view+json": {
       "model_id": "b0565ae5c1cb4c1a9394afefbcc4c707",
       "version_major": 2,
       "version_minor": 0
      },
      "text/plain": [
       "Output()"
      ]
     },
     "metadata": {},
     "output_type": "display_data"
    }
   ],
   "source": [
    "display(Markdown(\"# Formulaire\"))\n",
    "\n",
    "titre1 = widgets.HTML(\"<h3 style='color:dark;'>---Transparence des données¶---</h3>\")\n",
    "\n",
    "# 1. Création des widgets pour chaque question\n",
    "q11 = widgets.ToggleButtons(\n",
    "    options=['Oui', 'Non'],\n",
    "    description='Est-ce que les sources de données sont clairement identifiées ?',\n",
    "    button_style='info'\n",
    ")\n",
    "\n",
    "q12 = widgets.ToggleButtons(\n",
    "    options=['Oui', 'Non'],\n",
    "    description='Avez-vous un processus de nettoyage et traitement des informations ?',\n",
    "    button_style='info'\n",
    ")\n",
    "\n",
    "q13 = widgets.ToggleButtons(\n",
    "    options=['Oui', 'Non'],\n",
    "    description='Avez-vous les archives de recherches et de réponses ?',\n",
    "    button_style='info'\n",
    ")\n",
    "\n",
    "titre2 = widgets.HTML(\"<h3 style='color:dark;'>---Transparence du modèle (algorithmique)---</h3>\")\n",
    "\n",
    "q21 = widgets.ToggleButtons(\n",
    "    options=['Oui', 'Non'],\n",
    "    description='Avez-vous une description technique du modèle ?',\n",
    "    button_style='info'\n",
    ")\n",
    "q22 = widgets.ToggleButtons(\n",
    "    options=['Oui', 'Non'],\n",
    "    description='Avez-vous donné accès au code source ?',\n",
    "    button_style='info'\n",
    ")\n",
    "q23 = widgets.ToggleButtons(\n",
    "    options=['Oui', 'Non'],\n",
    "    description='Mettez-vous à disposition les choix techniques ainsi que les logs?',\n",
    "    button_style='info'\n",
    ")\n",
    "q24 = widgets.ToggleButtons(\n",
    "    options=['Oui', 'Non'],\n",
    "    description=\"Avez-vous fait un versionning de chaque étapes d'évolution ? \",\n",
    "    button_style='info'\n",
    ")\n",
    "\n",
    "titre3 = widgets.HTML(\"<h3 style='color:dark;'>---Explicabilité des décisions---</h3>\")\n",
    "\n",
    "q31 = widgets.ToggleButtons(\n",
    "    options=['Oui', 'Non'],\n",
    "    description=\"Est-ce que vous avez expliqué le fonctionnement flobal du système ? \",\n",
    "    button_style='info'\n",
    ")\n",
    "q32 = widgets.ToggleButtons(\n",
    "    options=['Oui', 'Non'],\n",
    "    description=\"Y a-til des outils ou interfaces d'aide a la compréhension pour l'utilisateur ? \",\n",
    "    button_style='info'\n",
    ")\n",
    "q33 = widgets.ToggleButtons(\n",
    "    options=['Oui', 'Non'],\n",
    "    description=\"Avez-vous donné les informations avec un language non expert (vulgarisé) ? \",\n",
    "    button_style='info'\n",
    ")\n",
    "\n",
    "# 2. Bouton de validation\n",
    "submit_button = widgets.Button(description=\"Valider\", button_style='success')\n",
    "\n",
    "# 3. Zone de sortie pour l'affichage final\n",
    "output = widgets.Output()\n",
    "\n",
    "# 4. Fonction appelée quand on clique sur le bouton\n",
    "def on_submit(b):\n",
    "    with output:\n",
    "        clear_output()\n",
    "        global tdd,tdm,edd,ger,aecplp,caner\n",
    "        \n",
    "        print(\"Résumé des pourcentage de réponse :\")\n",
    "        #print(f\"→ Sources de données fiables  : {q11.value}\")\n",
    "        #print(f\"→ Possession d'un processus de nettoyage et pré-traitement des informations : {q2.value}\")\n",
    "        #print(f\"→ Archives des logs de recherches: {q3.value}\")\n",
    "        \n",
    "        score = sum([q.value == \"Oui\" for q in [q11, q12, q13]])\n",
    "        percentage = (score / 3) * 100\n",
    "        print(f\"- Transparence des données = {percentage}% \")\n",
    "        tdd = percentage\n",
    "        \n",
    "        score = sum([q.value == \"Oui\" for q in [q21, q22, q23,q24]])\n",
    "        percentage = (score / 4) * 100\n",
    "        print(f\"- Transparencedu modèle (algorithmique) = {percentage}% \")\n",
    "        tdm =  percentage\n",
    "        \n",
    "        score = sum([q.value == \"Oui\" for q in [q31,q32,q33]])\n",
    "        percentage = (score / 3) * 100\n",
    "        print(f\"- Explicabilité des décisions = {percentage}% \")\n",
    "        edd = percentage\n",
    "\n",
    "        #Jauge\n",
    "        niveau = sum([tdm,tdd,edd])/3\n",
    "        couleur = 'green' if niveau > 60 else 'orange' if niveau > 30 else 'red'\n",
    "\n",
    "        jauge = widgets.IntProgress(value=niveau, min=0, max=100, description='Score', style={'bar_color': couleur})\n",
    "        print (f\"le score total est de {niveau}% de transparence\")\n",
    "        display(jauge)\n",
    "    \n",
    "# 5. Lier la fonction au clic du bouton\n",
    "submit_button.on_click(on_submit)\n",
    "\n",
    "# 6. Affichage du formulaire\n",
    "display(titre1, q11, q12, q13, titre2,  q21, q22, q23, q24 ,titre3,  q31, q32, q33,submit_button, output)\n"
   ]
  },
  {
   "cell_type": "code",
   "execution_count": null,
   "id": "8e603e59-520e-4a66-a52f-355b480e57e4",
   "metadata": {},
   "outputs": [],
   "source": []
  },
  {
   "cell_type": "code",
   "execution_count": null,
   "id": "8139f0ce-6918-4549-9ad0-d8713120067c",
   "metadata": {},
   "outputs": [],
   "source": []
  }
 ],
 "metadata": {
  "kernelspec": {
   "display_name": "Python 3 (ipykernel)",
   "language": "python",
   "name": "python3"
  },
  "language_info": {
   "codemirror_mode": {
    "name": "ipython",
    "version": 3
   },
   "file_extension": ".py",
   "mimetype": "text/x-python",
   "name": "python",
   "nbconvert_exporter": "python",
   "pygments_lexer": "ipython3",
   "version": "3.13.2"
  }
 },
 "nbformat": 4,
 "nbformat_minor": 5
}
