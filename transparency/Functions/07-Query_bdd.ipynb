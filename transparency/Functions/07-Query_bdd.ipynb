{
 "cells": [
  {
   "cell_type": "code",
   "execution_count": 14,
   "id": "a592d58c-227e-4b90-bf51-128b3116e2a6",
   "metadata": {},
   "outputs": [],
   "source": [
    "import sqlite3\n",
    "import pandas as pd\n",
    "\n",
    "def query_bdd():\n",
    "    \"\"\"\n",
    "    Exécute une requête SQL sur la base de données 'transparence_ia.db'\n",
    "    et retourne les résultats dans un DataFrame.\n",
    "    \n",
    "    Paramètre :\n",
    "        requete_sql (str) : La requête SQL à exécuter.\n",
    "\n",
    "    Retour :\n",
    "        pd.DataFrame : Résultats de la requête.\n",
    "    \"\"\"\n",
    "    db_path = \"transparence_ia.db\"\n",
    "    print(\"enter your query :\")\n",
    "    requete_sql = input(\"query : \").strip()\n",
    "    try:\n",
    "        conn = sqlite3.connect(db_path)\n",
    "        df = pd.read_sql_query(requete_sql, conn)\n",
    "        return df\n",
    "    except Exception as e:\n",
    "        print(f\"Error on the query request : {e}\")\n",
    "        return None\n",
    "    finally:\n",
    "        conn.close()\n"
   ]
  },
  {
   "cell_type": "code",
   "execution_count": 17,
   "id": "8720dc63-1501-4d80-8c13-02a1cf98ef22",
   "metadata": {},
   "outputs": [
    {
     "name": "stdout",
     "output_type": "stream",
     "text": [
      "enter your query :\n"
     ]
    },
    {
     "name": "stdin",
     "output_type": "stream",
     "text": [
      "query :  SELECT sc1.nom, sc2.nom         FROM Relations r         JOIN SousConcepts sc1 ON r.source_id = sc1.id         JOIN SousConcepts sc2 ON r.cible_id = sc2.id;\n"
     ]
    },
    {
     "data": {
      "text/html": [
       "<div>\n",
       "<style scoped>\n",
       "    .dataframe tbody tr th:only-of-type {\n",
       "        vertical-align: middle;\n",
       "    }\n",
       "\n",
       "    .dataframe tbody tr th {\n",
       "        vertical-align: top;\n",
       "    }\n",
       "\n",
       "    .dataframe thead th {\n",
       "        text-align: right;\n",
       "    }\n",
       "</style>\n",
       "<table border=\"1\" class=\"dataframe\">\n",
       "  <thead>\n",
       "    <tr style=\"text-align: right;\">\n",
       "      <th></th>\n",
       "      <th>nom</th>\n",
       "      <th>nom</th>\n",
       "    </tr>\n",
       "  </thead>\n",
       "  <tbody>\n",
       "    <tr>\n",
       "      <th>0</th>\n",
       "      <td>qualité des données</td>\n",
       "      <td>Nettoyage pré-traitement</td>\n",
       "    </tr>\n",
       "    <tr>\n",
       "      <th>1</th>\n",
       "      <td>Identification des biais</td>\n",
       "      <td>Nettoyage pré-traitement</td>\n",
       "    </tr>\n",
       "    <tr>\n",
       "      <th>2</th>\n",
       "      <td>Nettoyage pré-traitement</td>\n",
       "      <td>Traçabilité</td>\n",
       "    </tr>\n",
       "    <tr>\n",
       "      <th>3</th>\n",
       "      <td>Identification des biais</td>\n",
       "      <td>Traçabilité</td>\n",
       "    </tr>\n",
       "  </tbody>\n",
       "</table>\n",
       "</div>"
      ],
      "text/plain": [
       "                        nom                       nom\n",
       "0       qualité des données  Nettoyage pré-traitement\n",
       "1  Identification des biais  Nettoyage pré-traitement\n",
       "2  Nettoyage pré-traitement               Traçabilité\n",
       "3  Identification des biais               Traçabilité"
      ]
     },
     "execution_count": 17,
     "metadata": {},
     "output_type": "execute_result"
    }
   ],
   "source": [
    "query_bdd()"
   ]
  },
  {
   "cell_type": "code",
   "execution_count": null,
   "id": "1141647a-ed6b-4172-983e-e07612637edb",
   "metadata": {},
   "outputs": [],
   "source": []
  }
 ],
 "metadata": {
  "kernelspec": {
   "display_name": "Python 3 (ipykernel)",
   "language": "python",
   "name": "python3"
  },
  "language_info": {
   "codemirror_mode": {
    "name": "ipython",
    "version": 3
   },
   "file_extension": ".py",
   "mimetype": "text/x-python",
   "name": "python",
   "nbconvert_exporter": "python",
   "pygments_lexer": "ipython3",
   "version": "3.13.2"
  }
 },
 "nbformat": 4,
 "nbformat_minor": 5
}
