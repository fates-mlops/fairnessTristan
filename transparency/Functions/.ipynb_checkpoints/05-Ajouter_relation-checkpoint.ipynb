{
 "cells": [
  {
   "cell_type": "code",
   "execution_count": 3,
   "id": "39a4112a-d2d8-4873-8517-3e52ff322cff",
   "metadata": {},
   "outputs": [
    {
     "name": "stdout",
     "output_type": "stream",
     "text": [
      "Ajout de relations\n"
     ]
    },
    {
     "name": "stdin",
     "output_type": "stream",
     "text": [
      "ID du sous-concept source (entier) :  1\n",
      "ID du sous-concept cible (entier) :  18\n",
      "Type de relation (exemple : dépendance) :  dépendance\n"
     ]
    },
    {
     "name": "stdout",
     "output_type": "stream",
     "text": [
      "Relation entre source 1 et cible 18 de type 'dépendance' ajoutée avec succès.\n"
     ]
    }
   ],
   "source": [
    "import sqlite3\n",
    "\n",
    "def ajouter_relation(source_id, cible_id, type_relation):\n",
    "    try:\n",
    "        db_path = \"transparence_ia.db\"\n",
    "        conn = sqlite3.connect(db_path)\n",
    "        cursor = conn.cursor()\n",
    "\n",
    "        cursor.execute(\"\"\"\n",
    "        INSERT INTO Relations (source_id, cible_id, type_relation)\n",
    "        VALUES (?, ?, ?);\n",
    "        \"\"\", (source_id, cible_id, type_relation))\n",
    "\n",
    "        conn.commit()\n",
    "        print(f\"Relation entre source {source_id} et cible {cible_id} de type '{type_relation}' ajoutée avec succès.\")\n",
    "\n",
    "    except Exception as e:\n",
    "        print(f\"Erreur : {e}\")\n",
    "\n",
    "    finally:\n",
    "        conn.close()\n",
    "\n",
    "if __name__ == \"__main__\":\n",
    "    # Demande des paramètres à l'utilisateur\n",
    "    print(\"Ajout de relations\")\n",
    "    source_id = input(\"ID du sous-concept source (entier) : \").strip()\n",
    "    cible_id = input(\"ID du sous-concept cible (entier) : \").strip()\n",
    "    type_relation = input(\"Type de relation (exemple : dépendance) : \").strip()\n",
    "\n",
    "    # Conversion des IDs en entiers (ajouter gestion d'erreur possible)\n",
    "    try:\n",
    "        source_id = int(source_id)\n",
    "        cible_id = int(cible_id)\n",
    "    except ValueError:\n",
    "        print(\"Les IDs doivent être des nombres entiers.\")\n",
    "        exit(1)\n",
    "\n",
    "    ajouter_relation(source_id, cible_id, type_relation)\n"
   ]
  },
  {
   "cell_type": "code",
   "execution_count": null,
   "id": "1bffe4ca-ed93-4256-beac-f9557bbf992f",
   "metadata": {},
   "outputs": [],
   "source": []
  }
 ],
 "metadata": {
  "kernelspec": {
   "display_name": "Python 3 (ipykernel)",
   "language": "python",
   "name": "python3"
  },
  "language_info": {
   "codemirror_mode": {
    "name": "ipython",
    "version": 3
   },
   "file_extension": ".py",
   "mimetype": "text/x-python",
   "name": "python",
   "nbconvert_exporter": "python",
   "pygments_lexer": "ipython3",
   "version": "3.13.2"
  }
 },
 "nbformat": 4,
 "nbformat_minor": 5
}
