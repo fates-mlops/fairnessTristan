{
 "cells": [
  {
   "cell_type": "code",
   "execution_count": 1,
   "id": "a9a52a40-eed6-48f3-96e1-698c551ab722",
   "metadata": {},
   "outputs": [],
   "source": [
    "from IPython.display import display, clear_output, Markdown\n",
    "import ipywidgets as widgets"
   ]
  },
  {
   "cell_type": "code",
   "execution_count": 2,
   "id": "ab8ce832-16e5-4b58-b835-a45854710ad0",
   "metadata": {},
   "outputs": [],
   "source": [
    "def formulaire_transparence():\n",
    "    display(Markdown(\"# Formulaire d'évaluation de la transparence et gouvernance de l'IA\"))\n",
    "\n",
    "    # --- 1. Transparence des données ---\n",
    "    titre1 = widgets.HTML(\"<h3 style='color:darkblue;'>1. Transparence des données</h3>\")\n",
    "    q11 = widgets.ToggleButtons(options=['Oui', 'Non'], description='Qualité des données (exactitude, complétude) ?', button_style='info')\n",
    "    q12 = widgets.ToggleButtons(options=['Oui', 'Non'], description='Processus de nettoyage documenté ?', button_style='info')\n",
    "    q13 = widgets.ToggleButtons(options=['Oui', 'Non'], description='Identification des biais présents ?', button_style='info')\n",
    "    q14 = widgets.ToggleButtons(options=['Oui', 'Non'], description='Traçabilité des données (historique disponible) ?', button_style='info')\n",
    "\n",
    "    # --- 2. Explicabilité des décisions ---\n",
    "    titre2 = widgets.HTML(\"<h3 style='color:darkorange;'>2. Explicabilité des décisions</h3>\")\n",
    "    q21 = widgets.ToggleButtons(options=['Oui', 'Non'], description='Explications locales (ex: SHAP, LIME) ?', button_style='warning')\n",
    "    q22 = widgets.ToggleButtons(options=['Oui', 'Non'], description='Explications globales du modèle ?', button_style='warning')\n",
    "\n",
    "    # --- 3. Gouvernance et redevabilité ---\n",
    "    titre3 = widgets.HTML(\"<h3 style='color:darkred;'>3. Gouvernance et redevabilité</h3>\")\n",
    "    q31 = widgets.ToggleButtons(options=['Oui', 'Non'], description='Identification des responsables ?', button_style='danger')\n",
    "    q32 = widgets.ToggleButtons(options=['Oui', 'Non'], description='Archivage et logs des décisions ?', button_style='danger')\n",
    "    q33 = widgets.ToggleButtons(options=['Oui', 'Non'], description='Auditabilité (inspection externe possible) ?', button_style='danger')\n",
    "    q34 = widgets.ToggleButtons(options=['Oui', 'Non'], description='Mécanismes de recours pour contestation ?', button_style='danger')\n",
    "    q35 = widgets.ToggleButtons(options=['Oui', 'Non'], description='Suivi post-déploiement actif ?', button_style='danger')\n",
    "\n",
    "    # --- 4. Accessibilité et clarté pour le public ---\n",
    "    titre4 = widgets.HTML(\"<h3 style='color:purple;'>4. Accessibilité et clarté pour le public</h3>\")\n",
    "    q41 = widgets.ToggleButtons(options=['Oui', 'Non'], description='Lisibilité des informations ?', button_style='')\n",
    "    q42 = widgets.ToggleButtons(options=['Oui', 'Non'], description='Transparence adaptée au profil utilisateur ?', button_style='')\n",
    "    q43 = widgets.ToggleButtons(options=['Oui', 'Non'], description='Informations facilement accessibles ?', button_style='')\n",
    "\n",
    "    # --- 5. Conformité aux normes et régulations ---\n",
    "    titre5 = widgets.HTML(\"<h3 style='color:teal;'>5. Conformité aux normes et régulations</h3>\")\n",
    "    q51 = widgets.ToggleButtons(options=['Oui', 'Non'], description='Conformité au AI Act ?', button_style='info')\n",
    "    q52 = widgets.ToggleButtons(options=['Oui', 'Non'], description='Alignement avec normes internationales ?', button_style='info')\n",
    "\n",
    "    # --- Bouton de validation ---\n",
    "    submit_button = widgets.Button(description=\"Valider\", button_style='primary')\n",
    "    output = widgets.Output()\n",
    "\n",
    "    def on_submit(b):\n",
    "        with output:\n",
    "            clear_output()\n",
    "            display(Markdown(\"## Résumé de l'évaluation\"))\n",
    "\n",
    "            # Groupes de questions\n",
    "            groupes = {\n",
    "                \"Transparence des données\": [q11, q12, q13, q14],\n",
    "                \"Explicabilité des décisions\": [q21, q22],\n",
    "                \"Gouvernance et redevabilité\": [q31, q32, q33, q34, q35],\n",
    "                \"Accessibilité et clarté\": [q41, q42, q43],\n",
    "                \"Conformité aux normes\": [q51, q52]\n",
    "            }\n",
    "\n",
    "            # Calcul des scores\n",
    "            def score_pct(questions):\n",
    "                return (sum(q.value == 'Oui' for q in questions) / len(questions)) * 100\n",
    "\n",
    "            scores = {}\n",
    "            for nom, qs in groupes.items():\n",
    "                pct = score_pct(qs)\n",
    "                scores[nom] = pct\n",
    "                print(f\"• {nom} : {pct:.1f}%\")\n",
    "\n",
    "            score_global = sum(scores.values()) / len(scores)\n",
    "            couleur = 'green' if score_global >= 70 else 'orange' if score_global >= 40 else 'red'\n",
    "            print(f\"\\n### Score global de transparence et gouvernance : {score_global:.1f}%\")\n",
    "\n",
    "            jauge = widgets.IntProgress(value=int(score_global), min=0, max=100, description='Score global', style={'bar_color': couleur})\n",
    "            display(jauge)\n",
    "\n",
    "    submit_button.on_click(on_submit)\n",
    "\n",
    "    # Affichage de tous les widgets\n",
    "    display(\n",
    "        titre1, q11, q12, q13, q14,\n",
    "        titre2, q21, q22,\n",
    "        titre3, q31, q32, q33, q34, q35,\n",
    "        titre4, q41, q42, q43,\n",
    "        titre5, q51, q52,\n",
    "        submit_button, output\n",
    "    )\n"
   ]
  },
  {
   "cell_type": "code",
   "execution_count": 3,
   "id": "8e603e59-520e-4a66-a52f-355b480e57e4",
   "metadata": {},
   "outputs": [
    {
     "data": {
      "text/markdown": [
       "# Formulaire d'évaluation de la transparence et gouvernance de l'IA"
      ],
      "text/plain": [
       "<IPython.core.display.Markdown object>"
      ]
     },
     "metadata": {},
     "output_type": "display_data"
    },
    {
     "data": {
      "application/vnd.jupyter.widget-view+json": {
       "model_id": "92bfa4cd42af46f2ad916872f50a2710",
       "version_major": 2,
       "version_minor": 0
      },
      "text/plain": [
       "HTML(value=\"<h3 style='color:darkblue;'>1. Transparence des données</h3>\")"
      ]
     },
     "metadata": {},
     "output_type": "display_data"
    },
    {
     "data": {
      "application/vnd.jupyter.widget-view+json": {
       "model_id": "ebe628e60ede456d8262a136114a3789",
       "version_major": 2,
       "version_minor": 0
      },
      "text/plain": [
       "ToggleButtons(button_style='info', description='Qualité des données (exactitude, complétude) ?', options=('Oui…"
      ]
     },
     "metadata": {},
     "output_type": "display_data"
    },
    {
     "data": {
      "application/vnd.jupyter.widget-view+json": {
       "model_id": "b9dbb1166b914b7a8374e9d20bc113a9",
       "version_major": 2,
       "version_minor": 0
      },
      "text/plain": [
       "ToggleButtons(button_style='info', description='Processus de nettoyage documenté ?', options=('Oui', 'Non'), v…"
      ]
     },
     "metadata": {},
     "output_type": "display_data"
    },
    {
     "data": {
      "application/vnd.jupyter.widget-view+json": {
       "model_id": "d211182f5abf43319d027f8b313a190c",
       "version_major": 2,
       "version_minor": 0
      },
      "text/plain": [
       "ToggleButtons(button_style='info', description='Identification des biais présents ?', options=('Oui', 'Non'), …"
      ]
     },
     "metadata": {},
     "output_type": "display_data"
    },
    {
     "data": {
      "application/vnd.jupyter.widget-view+json": {
       "model_id": "02db3bff70094cf6a4fc56659bf47a29",
       "version_major": 2,
       "version_minor": 0
      },
      "text/plain": [
       "ToggleButtons(button_style='info', description='Traçabilité des données (historique disponible) ?', options=('…"
      ]
     },
     "metadata": {},
     "output_type": "display_data"
    },
    {
     "data": {
      "application/vnd.jupyter.widget-view+json": {
       "model_id": "55559fac69814c449d78fcd9503fd917",
       "version_major": 2,
       "version_minor": 0
      },
      "text/plain": [
       "HTML(value=\"<h3 style='color:darkorange;'>2. Explicabilité des décisions</h3>\")"
      ]
     },
     "metadata": {},
     "output_type": "display_data"
    },
    {
     "data": {
      "application/vnd.jupyter.widget-view+json": {
       "model_id": "62635cc9ce8946a78c8c676e5151a19c",
       "version_major": 2,
       "version_minor": 0
      },
      "text/plain": [
       "ToggleButtons(button_style='warning', description='Explications locales (ex: SHAP, LIME) ?', options=('Oui', '…"
      ]
     },
     "metadata": {},
     "output_type": "display_data"
    },
    {
     "data": {
      "application/vnd.jupyter.widget-view+json": {
       "model_id": "429140d9178347a9b25d3b5eac7fda6f",
       "version_major": 2,
       "version_minor": 0
      },
      "text/plain": [
       "ToggleButtons(button_style='warning', description='Explications globales du modèle ?', options=('Oui', 'Non'),…"
      ]
     },
     "metadata": {},
     "output_type": "display_data"
    },
    {
     "data": {
      "application/vnd.jupyter.widget-view+json": {
       "model_id": "10676845e7cc408b82913891fd8fa92c",
       "version_major": 2,
       "version_minor": 0
      },
      "text/plain": [
       "HTML(value=\"<h3 style='color:darkred;'>3. Gouvernance et redevabilité</h3>\")"
      ]
     },
     "metadata": {},
     "output_type": "display_data"
    },
    {
     "data": {
      "application/vnd.jupyter.widget-view+json": {
       "model_id": "31fb4cccdb944c05a84ac3e6c1b15811",
       "version_major": 2,
       "version_minor": 0
      },
      "text/plain": [
       "ToggleButtons(button_style='danger', description='Identification des responsables ?', options=('Oui', 'Non'), …"
      ]
     },
     "metadata": {},
     "output_type": "display_data"
    },
    {
     "data": {
      "application/vnd.jupyter.widget-view+json": {
       "model_id": "14fadfa0372348c9aa3f3c5b4ee5be90",
       "version_major": 2,
       "version_minor": 0
      },
      "text/plain": [
       "ToggleButtons(button_style='danger', description='Archivage et logs des décisions ?', options=('Oui', 'Non'), …"
      ]
     },
     "metadata": {},
     "output_type": "display_data"
    },
    {
     "data": {
      "application/vnd.jupyter.widget-view+json": {
       "model_id": "285f024eabf34fea8f917c5368dbf58c",
       "version_major": 2,
       "version_minor": 0
      },
      "text/plain": [
       "ToggleButtons(button_style='danger', description='Auditabilité (inspection externe possible) ?', options=('Oui…"
      ]
     },
     "metadata": {},
     "output_type": "display_data"
    },
    {
     "data": {
      "application/vnd.jupyter.widget-view+json": {
       "model_id": "7dc5b09fdb62435f861e3c37b06a9d71",
       "version_major": 2,
       "version_minor": 0
      },
      "text/plain": [
       "ToggleButtons(button_style='danger', description='Mécanismes de recours pour contestation ?', options=('Oui', …"
      ]
     },
     "metadata": {},
     "output_type": "display_data"
    },
    {
     "data": {
      "application/vnd.jupyter.widget-view+json": {
       "model_id": "360248be6eb044a3b2d9d0b040f40114",
       "version_major": 2,
       "version_minor": 0
      },
      "text/plain": [
       "ToggleButtons(button_style='danger', description='Suivi post-déploiement actif ?', options=('Oui', 'Non'), val…"
      ]
     },
     "metadata": {},
     "output_type": "display_data"
    },
    {
     "data": {
      "application/vnd.jupyter.widget-view+json": {
       "model_id": "b29fdba534e943c28101ecc7e5b7e676",
       "version_major": 2,
       "version_minor": 0
      },
      "text/plain": [
       "HTML(value=\"<h3 style='color:purple;'>4. Accessibilité et clarté pour le public</h3>\")"
      ]
     },
     "metadata": {},
     "output_type": "display_data"
    },
    {
     "data": {
      "application/vnd.jupyter.widget-view+json": {
       "model_id": "9165d52604724500846f1545a979d0bd",
       "version_major": 2,
       "version_minor": 0
      },
      "text/plain": [
       "ToggleButtons(description='Lisibilité des informations ?', options=('Oui', 'Non'), value='Oui')"
      ]
     },
     "metadata": {},
     "output_type": "display_data"
    },
    {
     "data": {
      "application/vnd.jupyter.widget-view+json": {
       "model_id": "40785da4479346fb965f400e444dd7ab",
       "version_major": 2,
       "version_minor": 0
      },
      "text/plain": [
       "ToggleButtons(description='Transparence adaptée au profil utilisateur ?', options=('Oui', 'Non'), value='Oui')"
      ]
     },
     "metadata": {},
     "output_type": "display_data"
    },
    {
     "data": {
      "application/vnd.jupyter.widget-view+json": {
       "model_id": "21c201d69e6740fd9dc9f7c9c9be854a",
       "version_major": 2,
       "version_minor": 0
      },
      "text/plain": [
       "ToggleButtons(description='Informations facilement accessibles ?', options=('Oui', 'Non'), value='Oui')"
      ]
     },
     "metadata": {},
     "output_type": "display_data"
    },
    {
     "data": {
      "application/vnd.jupyter.widget-view+json": {
       "model_id": "08f74dd205484aaa95b8f19af0862f18",
       "version_major": 2,
       "version_minor": 0
      },
      "text/plain": [
       "HTML(value=\"<h3 style='color:teal;'>5. Conformité aux normes et régulations</h3>\")"
      ]
     },
     "metadata": {},
     "output_type": "display_data"
    },
    {
     "data": {
      "application/vnd.jupyter.widget-view+json": {
       "model_id": "c10df3c2fe754cc1b45aa5fd915d9519",
       "version_major": 2,
       "version_minor": 0
      },
      "text/plain": [
       "ToggleButtons(button_style='info', description='Conformité au AI Act ?', options=('Oui', 'Non'), value='Oui')"
      ]
     },
     "metadata": {},
     "output_type": "display_data"
    },
    {
     "data": {
      "application/vnd.jupyter.widget-view+json": {
       "model_id": "dfa6e4a7b37049d48ffe40cc3631d92d",
       "version_major": 2,
       "version_minor": 0
      },
      "text/plain": [
       "ToggleButtons(button_style='info', description='Alignement avec normes internationales ?', options=('Oui', 'No…"
      ]
     },
     "metadata": {},
     "output_type": "display_data"
    },
    {
     "data": {
      "application/vnd.jupyter.widget-view+json": {
       "model_id": "8fe8180a74224894a1f75b22ba53a61c",
       "version_major": 2,
       "version_minor": 0
      },
      "text/plain": [
       "Button(button_style='primary', description='Valider', style=ButtonStyle())"
      ]
     },
     "metadata": {},
     "output_type": "display_data"
    },
    {
     "data": {
      "application/vnd.jupyter.widget-view+json": {
       "model_id": "4dd6eb99b88548dfa404b768813839ba",
       "version_major": 2,
       "version_minor": 0
      },
      "text/plain": [
       "Output()"
      ]
     },
     "metadata": {},
     "output_type": "display_data"
    }
   ],
   "source": [
    "formulaire_transparence()"
   ]
  },
  {
   "cell_type": "code",
   "execution_count": null,
   "id": "22b0176c-811f-4423-853e-4908a88086c5",
   "metadata": {},
   "outputs": [],
   "source": []
  }
 ],
 "metadata": {
  "kernelspec": {
   "display_name": "Python 3 (ipykernel)",
   "language": "python",
   "name": "python3"
  },
  "language_info": {
   "codemirror_mode": {
    "name": "ipython",
    "version": 3
   },
   "file_extension": ".py",
   "mimetype": "text/x-python",
   "name": "python",
   "nbconvert_exporter": "python",
   "pygments_lexer": "ipython3",
   "version": "3.13.2"
  }
 },
 "nbformat": 4,
 "nbformat_minor": 5
}
