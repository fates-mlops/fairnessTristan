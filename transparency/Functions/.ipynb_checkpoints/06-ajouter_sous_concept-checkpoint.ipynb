{
 "cells": [
  {
   "cell_type": "code",
   "execution_count": 1,
   "id": "f321c916-6560-4817-bcca-a4339ea50a05",
   "metadata": {},
   "outputs": [
    {
     "name": "stdout",
     "output_type": "stream",
     "text": [
      "Ajout d’un sous-concept dans la base transparence_ia.db\n"
     ]
    },
    {
     "name": "stdin",
     "output_type": "stream",
     "text": [
      "Nom du sous-concept :  Traçabilité\n",
      "ID du concept parent (entier) :  1\n"
     ]
    },
    {
     "name": "stdout",
     "output_type": "stream",
     "text": [
      "Sous-concept 'Traçabilité' ajouté avec succès (lié au concept ID 1).\n"
     ]
    }
   ],
   "source": [
    "import sqlite3\n",
    "\n",
    "def ajouter_sous_concept(nom_sous_concept, concept_id, db_path):\n",
    "    \"\"\"\n",
    "    Ajoute un sous-concept lié à un concept existant.\n",
    "\n",
    "    Args:\n",
    "        nom_sous_concept (str): Le nom du sous-concept à ajouter.\n",
    "        concept_id (int): L'ID du concept parent.\n",
    "        db_path (str): Chemin vers la base de données SQLite.\n",
    "    \"\"\"\n",
    "    try:\n",
    "        conn = sqlite3.connect(db_path)\n",
    "        cursor = conn.cursor()\n",
    "\n",
    "        # Vérifie que le concept existe\n",
    "        cursor.execute(\"SELECT id FROM Concepts WHERE id = ?\", (concept_id,))\n",
    "        if cursor.fetchone() is None:\n",
    "            print(f\"Erreur : aucun concept avec l'ID {concept_id}.\")\n",
    "            return\n",
    "\n",
    "        # Insertion du sous-concept\n",
    "        cursor.execute(\"\"\"\n",
    "        INSERT INTO SousConcepts (nom, concept_id)\n",
    "        VALUES (?, ?);\n",
    "        \"\"\", (nom_sous_concept, concept_id))\n",
    "\n",
    "        conn.commit()\n",
    "        print(f\"Sous-concept '{nom_sous_concept}' ajouté avec succès (lié au concept ID {concept_id}).\")\n",
    "\n",
    "    except Exception as e:\n",
    "        print(f\"Erreur lors de l'insertion : {e}\")\n",
    "\n",
    "    finally:\n",
    "        conn.close()\n",
    "\n",
    "if __name__ == \"__main__\":\n",
    "    print(\"Ajout d’un sous-concept dans la base transparence_ia.db\")\n",
    "    db_path = \"transparence_ia.db\"\n",
    "\n",
    "    nom = input(\"Nom du sous-concept : \").strip()\n",
    "    concept_id = input(\"ID du concept parent (entier) : \").strip()\n",
    "\n",
    "    try:\n",
    "        concept_id = int(concept_id)\n",
    "    except ValueError:\n",
    "        print(\"L'ID du concept doit être un entier.\")\n",
    "        exit(1)\n",
    "\n",
    "    ajouter_sous_concept(nom, concept_id, db_path)\n"
   ]
  },
  {
   "cell_type": "code",
   "execution_count": null,
   "id": "9db23d76-a5b4-4ac6-a98c-7f2e94c740d8",
   "metadata": {},
   "outputs": [],
   "source": []
  }
 ],
 "metadata": {
  "kernelspec": {
   "display_name": "Python 3 (ipykernel)",
   "language": "python",
   "name": "python3"
  },
  "language_info": {
   "codemirror_mode": {
    "name": "ipython",
    "version": 3
   },
   "file_extension": ".py",
   "mimetype": "text/x-python",
   "name": "python",
   "nbconvert_exporter": "python",
   "pygments_lexer": "ipython3",
   "version": "3.13.2"
  }
 },
 "nbformat": 4,
 "nbformat_minor": 5
}
