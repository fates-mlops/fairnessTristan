{
 "cells": [
  {
   "cell_type": "code",
   "execution_count": 5,
   "id": "3fcc2b9e-5e5d-4830-bbe7-b3bcfe6194e4",
   "metadata": {},
   "outputs": [],
   "source": [
    "# base de données\n",
    "import sqlite3\n",
    "# DataFrame\n",
    "import pandas as pd"
   ]
  },
  {
   "cell_type": "code",
   "execution_count": 3,
   "id": "05d67efc-fa91-43ec-ba43-d6e5dab3b58f",
   "metadata": {},
   "outputs": [],
   "source": [
    "# #Création de la table initiale\n",
    "\n",
    "# # Connexion à une base SQLite (fichier local)\n",
    "# conn = sqlite3.connect(\"transparence_ia.db\")\n",
    "# cursor = conn.cursor()\n",
    "\n",
    "# # Suppression des tables si elles existent déjà\n",
    "# cursor.executescript(\"\"\"\n",
    "# DROP TABLE IF EXISTS Relations;\n",
    "# DROP TABLE IF EXISTS SousConcepts;\n",
    "# DROP TABLE IF EXISTS Concepts;\n",
    "# DROP TABLE IF EXISTS Principes;\n",
    "# \"\"\")\n",
    "\n",
    "# # Création des tables\n",
    "# cursor.execute(\"\"\"\n",
    "# CREATE TABLE Principes (\n",
    "#     id INTEGER PRIMARY KEY AUTOINCREMENT,\n",
    "#     nom TEXT NOT NULL\n",
    "# );\n",
    "# \"\"\")\n",
    "\n",
    "# cursor.execute(\"\"\"\n",
    "# CREATE TABLE Concepts (\n",
    "#     id INTEGER PRIMARY KEY AUTOINCREMENT,\n",
    "#     nom TEXT NOT NULL,\n",
    "#     principe_id INTEGER,\n",
    "#     FOREIGN KEY (principe_id) REFERENCES Principes(id)\n",
    "# );\n",
    "# \"\"\")\n",
    "\n",
    "# cursor.execute(\"\"\"\n",
    "# CREATE TABLE SousConcepts (\n",
    "#     id INTEGER PRIMARY KEY AUTOINCREMENT,\n",
    "#     nom TEXT NOT NULL,\n",
    "#     concept_id INTEGER,\n",
    "#     FOREIGN KEY (concept_id) REFERENCES Concepts(id)\n",
    "# );\n",
    "# \"\"\")\n",
    "\n",
    "# cursor.execute(\"\"\"\n",
    "# CREATE TABLE Relations (\n",
    "#     id INTEGER PRIMARY KEY AUTOINCREMENT,\n",
    "#     source_id INTEGER,\n",
    "#     cible_id INTEGER,\n",
    "#     type_relation TEXT DEFAULT 'dépendance',\n",
    "#     FOREIGN KEY (source_id) REFERENCES SousConcepts(id),\n",
    "#     FOREIGN KEY (cible_id) REFERENCES SousConcepts(id)\n",
    "# );\n",
    "# \"\"\")\n",
    "\n",
    "# # Insertion des Principes\n",
    "# principes = ['RESPONSABILITE', 'TRANSPARENCE', 'CONFIDENTIALITE', 'JUSTICE']\n",
    "# cursor.executemany(\"INSERT INTO Principes (nom) VALUES (?)\", [(p,) for p in principes])\n",
    "\n",
    "# # Insertion des Concepts\n",
    "# concepts = [\n",
    "#     ('Qualité des données', 1),\n",
    "#     ('Explications locales', 1),\n",
    "#     ('Identification des responsables', 2),\n",
    "#     ('Lisibilité des informations', 2),\n",
    "#     ('Conformité AI Act', 2)\n",
    "# ]\n",
    "# cursor.executemany(\"INSERT INTO Concepts (nom, principe_id) VALUES (?, ?)\", concepts)\n",
    "\n",
    "# # Insertion des Sous-Concepts\n",
    "# sous_concepts = [\n",
    "#     ('Nettoyage pré-traitement', 1),\n",
    "#     ('Identification des biais', 1),\n",
    "#     ('Explications locales', 2),\n",
    "#     ('Archivage et logs', 3),\n",
    "#     ('Auditabilité', 3),\n",
    "#     ('Mécanisme de recours', 3),\n",
    "#     ('Suivi post-déploiement', 3),\n",
    "#     ('Transparence contextuelle', 4),\n",
    "#     ('Disponibilité des informations', 4),\n",
    "#     ('Alignement aux normes internationales', 5)\n",
    "# ]\n",
    "# cursor.executemany(\"INSERT INTO SousConcepts (nom, concept_id) VALUES (?, ?)\", sous_concepts)\n",
    "\n",
    "# # Insertion des Relations entre sous-concepts (source_id, cible_id)\n",
    "# relations = [\n",
    "#     (1, 2),  # Nettoyage → Identification des biais\n",
    "#     (4, 5),  # Archivage → Auditabilité\n",
    "#     (5, 6),  # Auditabilité → Mécanisme de recours\n",
    "#     (6, 7),  # Mécanisme → Suivi post-déploiement\n",
    "#     (8, 9),  # Transparence contextuelle → Disponibilité\n",
    "#     (10, 9)  # Alignement normes internationales → Disponibilité\n",
    "# ]\n",
    "# cursor.executemany(\"INSERT INTO Relations (source_id, cible_id) VALUES (?, ?)\", relations)\n",
    "\n",
    "# # Commit et fermeture\n",
    "# conn.commit()\n",
    "# conn.close()\n",
    "\n",
    "# print(\"Base de données transparence_ia.db créée avec succès !\")"
   ]
  },
  {
   "cell_type": "code",
   "execution_count": 6,
   "id": "c5a8c03b-eb56-4b12-a721-78296cbbf901",
   "metadata": {},
   "outputs": [
    {
     "name": "stdout",
     "output_type": "stream",
     "text": [
      "Tables disponibles : [('sqlite_sequence',), ('Principes',), ('Concepts',), ('SousConcepts',), ('Relations',)]\n",
      "(1, 'RESPONSABILITE')\n",
      "(2, 'TRANSPARENCE')\n",
      "(3, 'CONFIDENTIALITE')\n",
      "(4, 'JUSTICE')\n"
     ]
    }
   ],
   "source": [
    "conn = sqlite3.connect(\"transparence_ia.db\")\n",
    "cursor = conn.cursor()\n",
    "\n",
    "#affichage de la liste des tables\n",
    "cursor.execute(\"SELECT * FROM sqlite_master WHERE type='table';\")\n",
    "tables = cursor.fetchall()\n",
    "print(\"Tables disponibles :\", tables)\n",
    "\n",
    "#afficher tout le contenu de la tables principes\n",
    "cursor.execute(\"SELECT * FROM Principes;\")\n",
    "for row in cursor.fetchall():\n",
    "    print(row)\n",
    "    \n"
   ]
  },
  {
   "cell_type": "code",
   "execution_count": 17,
   "id": "17972f26-984a-47f2-85fd-db7ade07f922",
   "metadata": {},
   "outputs": [
    {
     "name": "stdout",
     "output_type": "stream",
     "text": [
      "('Nettoyage pré-traitement', 'Identification des biais', 'dépendance')\n",
      "('Archivage et logs', 'Auditabilité', 'dépendance')\n",
      "('Auditabilité', 'Mécanisme de recours', 'dépendance')\n",
      "('Mécanisme de recours', 'Suivi post-déploiement', 'dépendance')\n",
      "('Transparence contextuelle', 'Disponibilité des informations', 'dépendance')\n",
      "('Alignement aux normes internationales', 'Disponibilité des informations', 'dépendance')\n"
     ]
    }
   ],
   "source": [
    "#voir les relations entre sous-concepts\n",
    "query = \"\"\"\n",
    "SELECT \n",
    "    sc1.nom AS source, \n",
    "    sc2.nom AS cible, \n",
    "    r.type_relation\n",
    "FROM Relations r\n",
    "JOIN SousConcepts sc1 ON r.source_id = sc1.id\n",
    "JOIN SousConcepts sc2 ON r.cible_id = sc2.id;\n",
    "\"\"\"\n",
    "cursor.execute(query)\n",
    "for row in cursor.fetchall():\n",
    "    print(row)"
   ]
  },
  {
   "cell_type": "code",
   "execution_count": 18,
   "id": "d3ebb7b4-a214-41b2-b5b0-8afe5aa461bd",
   "metadata": {},
   "outputs": [
    {
     "name": "stdout",
     "output_type": "stream",
     "text": [
      "bdd bien close\n"
     ]
    }
   ],
   "source": [
    "conn.close()\n",
    "print(\"bdd bien close\")"
   ]
  },
  {
   "cell_type": "code",
   "execution_count": null,
   "id": "cf900f7c-c5c9-465b-ab7c-cf20715d6761",
   "metadata": {},
   "outputs": [],
   "source": []
  }
 ],
 "metadata": {
  "kernelspec": {
   "display_name": "Python 3 (ipykernel)",
   "language": "python",
   "name": "python3"
  },
  "language_info": {
   "codemirror_mode": {
    "name": "ipython",
    "version": 3
   },
   "file_extension": ".py",
   "mimetype": "text/x-python",
   "name": "python",
   "nbconvert_exporter": "python",
   "pygments_lexer": "ipython3",
   "version": "3.13.2"
  }
 },
 "nbformat": 4,
 "nbformat_minor": 5
}
