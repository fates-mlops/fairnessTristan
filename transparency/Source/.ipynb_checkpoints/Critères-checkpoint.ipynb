{
 "cells": [
  {
   "cell_type": "markdown",
   "id": "8ee61357-2851-46d0-a2fb-1d3da9591ebc",
   "metadata": {},
   "source": [
    "<a id=\"section-criteres\"></a>\n",
    "\n",
    "# Critères de transparence"
   ]
  },
  {
   "cell_type": "markdown",
   "id": "793617ee-6bea-43ec-866e-4c6fe6ebd20d",
   "metadata": {
    "jp-MarkdownHeadingCollapsed": true
   },
   "source": [
    "## 1. Transparence des données\n",
    "\n",
    "| Critère                    | Justification                                                                                               | Source                                                                                                 |\n",
    "|----------------------------|------------------------------------------------------------------------------------------------------------|--------------------------------------------------------------------------------------------------------|\n",
    "| Qualité des données        | La représentativité, l’exactitude et la complétude évitent les biais et assurent des résultats fiables.      | [MIT Sloan](https://mitsloan.mit.edu/ideas-made-to-matter/bringing-transparency-to-data-used-to-train-artificial-intelligence) |\n",
    "| Nettoyage & prétraitement  | Documenter ces étapes permet de garantir la reproductibilité et identifier les biais introduits.             | [Data Provenance Initiative](https://arxiv.org/abs/2310.16787)                                         |\n",
    "| Identification des biais   | Détecter les biais dans les jeux de données est crucial pour prévenir la discrimination algorithmique.      | [MIT Sloan](https://mitsloan.mit.edu/ideas-made-to-matter/bringing-transparency-to-data-used-to-train-artificial-intelligence) |\n",
    "| Traçabilité (data lineage) | Suivre l'historique des données est essentiel pour l'audit et la responsabilité.                           | [Decision Provenance](https://arxiv.org/abs/1804.05741)                                               |\n",
    "\n",
    "---"
   ]
  },
  {
   "cell_type": "markdown",
   "id": "57de4bcb-2109-4a65-9fb4-4dad9ca7c56c",
   "metadata": {},
   "source": [
    "## 2. Explicabilité des décisions\n",
    "\n",
    "| Critère                  | Justification                                                                                 | Source                                                                                           |\n",
    "|--------------------------|----------------------------------------------------------------------------------------------|--------------------------------------------------------------------------------------------------|\n",
    "| Explications locales     | Des outils comme SHAP ou LIME expliquent les décisions individuelles, renforçant la confiance. | [Wiley AI & Society](https://advanced.onlinelibrary.wiley.com/doi/10.1002/aisy.202400304)        |\n",
    "| Explications globales    | Aident à comprendre le comportement général du modèle.                                       | [Patsnap](https://eureka.patsnap.com/article/lime-vs-shap-local-vs-global-interpretability-tradeoffs) |\n",
    "\n",
    "---"
   ]
  },
  {
   "cell_type": "markdown",
   "id": "c5a15020-3c1d-4d73-b2f7-4c6470f4db4a",
   "metadata": {},
   "source": [
    "## 3. Gouvernance et redevabilité\n",
    "\n",
    "| Critère                   | Justification                                                                              | Source                                                                                             |\n",
    "|---------------------------|-------------------------------------------------------------------------------------------|----------------------------------------------------------------------------------------------------|\n",
    "| Identification des responsables | Identifier les développeurs ou les organisations responsables permet l’attribution de responsabilités. | [Le Monde](https://www.lemonde.fr/idees/article/2024/03/27/informatique-ne-deleguons-pas-a-la-machine-les-atteintes-a-notre-pacte-social_6224460_3232.html) |\n",
    "| Archivage & logs des décisions | Permet l’audit et l’analyse des décisions prises par le système.                        | [CNIL](https://www.cnil.fr/fr/intelligence-artificielle/ia-comment-etre-en-conformite-avec-le-rgpd)  |\n",
    "| Auditabilité              | Possibilité d’inspections externes pour assurer la transparence et la conformité.          | [arXiv – Post-market Monitoring](https://arxiv.org/abs/2111.05071)                                 |\n",
    "| Mécanismes de recours     | Permet aux individus de contester une décision et demander une révision humaine.           | [Avocat.fr – RGPD recours](https://consultation.avocat.fr/blog/anne-sophie-ramond/article-2971151-violations-du-rgpd-et-droit-a-l-explication-des-protections-essentielles-face-aux-derives-de-l-intelligence-artificielle.html) |\n",
    "| Suivi post-déploiement    | La surveillance continue permet d’adapter le système à l’évolution des contextes et prévenir les dérives. | [arXiv – Post-market Monitoring](https://arxiv.org/abs/2111.05071)                                 |\n",
    "\n",
    "---"
   ]
  },
  {
   "cell_type": "markdown",
   "id": "039001bd-e16f-40a8-bc1e-bdcb73e654d4",
   "metadata": {},
   "source": [
    "## 4. Accessibilité et clarté pour le public\n",
    "\n",
    "| Critère                  | Justification                                                                           | Source                                                                                             |\n",
    "|--------------------------|----------------------------------------------------------------------------------------|----------------------------------------------------------------------------------------------------|\n",
    "| Lisibilité des informations | Le vocabulaire doit être compréhensible pour les utilisateurs finaux.                | [Le Monde](https://www.lemonde.fr/idees/article/2024/03/27/informatique-ne-deleguons-pas-a-la-machine-les-atteintes-a-notre-pacte-social_6224460_3232.html) |\n",
    "| Transparence contextuelle | Adapter le niveau d’information au rôle (usager, expert, autorité)                     | [Le Monde](https://www.lemonde.fr/idees/article/2024/03/27/informatique-ne-deleguons-pas-a-la-machine-les-atteintes-a-notre-pacte-social_6224460_3232.html) |\n",
    "| Disponibilité des informations | Faciliter l’accès aux documents, outils ou interfaces explicatives                 | [CNIL](https://www.cnil.fr/fr/intelligence-artificielle/ia-comment-etre-en-conformite-avec-le-rgpd) |\n",
    "\n",
    "---"
   ]
  },
  {
   "cell_type": "markdown",
   "id": "4054a7f3-1a84-42be-9417-0ea79592f3b3",
   "metadata": {},
   "source": [
    "## 5. Conformité aux normes et régulations\n",
    "\n",
    "| Critère                  | Justification                                                                           | Source                                                                                             |\n",
    "|--------------------------|----------------------------------------------------------------------------------------|----------------------------------------------------------------------------------------------------|\n",
    "| Conformité AI Act        | Définit des obligations spécifiques selon le niveau de risque lié à l’IA.              | [European Commission AI Act](https://digital-strategy.ec.europa.eu/en/policies/european-approach-artificial-intelligence) |\n",
    "| Alignement normes internationales | Suivre les principes OCDE, UNESCO, ISO garantit la cohérence globale et la fiabilité. | [OCDE AI Principles](https://www.oecd.org/going-digital/ai/principles/)                           |\n"
   ]
  },
  {
   "cell_type": "code",
   "execution_count": null,
   "id": "325c040e-76ed-4b25-9745-466c61964c25",
   "metadata": {},
   "outputs": [],
   "source": []
  }
 ],
 "metadata": {
  "kernelspec": {
   "display_name": "Python 3 (ipykernel)",
   "language": "python",
   "name": "python3"
  },
  "language_info": {
   "codemirror_mode": {
    "name": "ipython",
    "version": 3
   },
   "file_extension": ".py",
   "mimetype": "text/x-python",
   "name": "python",
   "nbconvert_exporter": "python",
   "pygments_lexer": "ipython3",
   "version": "3.13.2"
  }
 },
 "nbformat": 4,
 "nbformat_minor": 5
}
