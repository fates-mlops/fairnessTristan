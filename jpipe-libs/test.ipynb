{
 "cells": [
  {
   "cell_type": "code",
   "execution_count": 1,
   "id": "e55e358c",
   "metadata": {},
   "outputs": [],
   "source": [
    "import fairness"
   ]
  },
  {
   "cell_type": "code",
   "execution_count": 2,
   "id": "fd14e33e",
   "metadata": {},
   "outputs": [
    {
     "data": {
      "text/plain": [
       "True"
      ]
     },
     "execution_count": 2,
     "metadata": {},
     "output_type": "execute_result"
    }
   ],
   "source": [
    "fairness.model_available()"
   ]
  },
  {
   "cell_type": "code",
   "execution_count": 3,
   "id": "c3c2aedf",
   "metadata": {},
   "outputs": [
    {
     "data": {
      "text/plain": [
       "True"
      ]
     },
     "execution_count": 3,
     "metadata": {},
     "output_type": "execute_result"
    }
   ],
   "source": [
    "fairness.metric_measurement_available()"
   ]
  },
  {
   "cell_type": "code",
   "execution_count": 4,
   "id": "f5453482",
   "metadata": {},
   "outputs": [
    {
     "data": {
      "text/plain": [
       "True"
      ]
     },
     "execution_count": 4,
     "metadata": {},
     "output_type": "execute_result"
    }
   ],
   "source": [
    "fairness.test_data_set_available()"
   ]
  },
  {
   "cell_type": "code",
   "execution_count": 5,
   "id": "f0b3ca8f",
   "metadata": {},
   "outputs": [
    {
     "data": {
      "text/plain": [
       "True"
      ]
     },
     "execution_count": 5,
     "metadata": {},
     "output_type": "execute_result"
    }
   ],
   "source": [
    "fairness.demographic_parity_measure()"
   ]
  },
  {
   "cell_type": "code",
   "execution_count": 6,
   "id": "b0fa8603",
   "metadata": {},
   "outputs": [
    {
     "data": {
      "text/plain": [
       "True"
      ]
     },
     "execution_count": 6,
     "metadata": {},
     "output_type": "execute_result"
    }
   ],
   "source": [
    "fairness.threshold_level_is_defined()"
   ]
  },
  {
   "cell_type": "code",
   "execution_count": 7,
   "id": "6e95b695",
   "metadata": {},
   "outputs": [
    {
     "data": {
      "text/plain": [
       "True"
      ]
     },
     "execution_count": 7,
     "metadata": {},
     "output_type": "execute_result"
    }
   ],
   "source": [
    "fairness.verifying_acceptance_threshold()"
   ]
  },
  {
   "cell_type": "code",
   "execution_count": 8,
   "id": "5bea263d",
   "metadata": {},
   "outputs": [],
   "source": [
    "import performance"
   ]
  },
  {
   "cell_type": "code",
   "execution_count": 9,
   "id": "13b5e97c",
   "metadata": {},
   "outputs": [
    {
     "data": {
      "text/plain": [
       "True"
      ]
     },
     "execution_count": 9,
     "metadata": {},
     "output_type": "execute_result"
    }
   ],
   "source": [
    "performance.model_available()"
   ]
  },
  {
   "cell_type": "code",
   "execution_count": 10,
   "id": "e6711ee6",
   "metadata": {},
   "outputs": [
    {
     "data": {
      "text/plain": [
       "True"
      ]
     },
     "execution_count": 10,
     "metadata": {},
     "output_type": "execute_result"
    }
   ],
   "source": [
    "performance.metric_measurement_available()"
   ]
  },
  {
   "cell_type": "code",
   "execution_count": 11,
   "id": "280747fa",
   "metadata": {},
   "outputs": [
    {
     "data": {
      "text/plain": [
       "True"
      ]
     },
     "execution_count": 11,
     "metadata": {},
     "output_type": "execute_result"
    }
   ],
   "source": [
    "performance.test_data_set_available()"
   ]
  },
  {
   "cell_type": "code",
   "execution_count": 12,
   "id": "9985a9bd",
   "metadata": {},
   "outputs": [
    {
     "data": {
      "text/plain": [
       "True"
      ]
     },
     "execution_count": 12,
     "metadata": {},
     "output_type": "execute_result"
    }
   ],
   "source": [
    "performance.f1_score_measure()"
   ]
  },
  {
   "cell_type": "code",
   "execution_count": 13,
   "id": "8ccb96f1",
   "metadata": {},
   "outputs": [
    {
     "data": {
      "text/plain": [
       "True"
      ]
     },
     "execution_count": 13,
     "metadata": {},
     "output_type": "execute_result"
    }
   ],
   "source": [
    "performance.threshold_level_is_defined()"
   ]
  },
  {
   "cell_type": "code",
   "execution_count": 14,
   "id": "c3793b2a",
   "metadata": {},
   "outputs": [
    {
     "data": {
      "text/plain": [
       "True"
      ]
     },
     "execution_count": 14,
     "metadata": {},
     "output_type": "execute_result"
    }
   ],
   "source": [
    "performance.verifying_acceptance_threshold()"
   ]
  },
  {
   "cell_type": "code",
   "execution_count": null,
   "id": "7e19c33a",
   "metadata": {},
   "outputs": [],
   "source": []
  }
 ],
 "metadata": {
  "kernelspec": {
   "display_name": ".venv",
   "language": "python",
   "name": "python3"
  },
  "language_info": {
   "codemirror_mode": {
    "name": "ipython",
    "version": 3
   },
   "file_extension": ".py",
   "mimetype": "text/x-python",
   "name": "python",
   "nbconvert_exporter": "python",
   "pygments_lexer": "ipython3",
   "version": "3.11.0"
  }
 },
 "nbformat": 4,
 "nbformat_minor": 5
}
