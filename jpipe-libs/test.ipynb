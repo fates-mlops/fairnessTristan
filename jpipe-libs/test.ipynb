{
 "cells": [
  {
   "cell_type": "code",
   "execution_count": 1,
   "id": "e55e358c",
   "metadata": {},
   "outputs": [],
   "source": [
    "from steps import *"
   ]
  },
  {
   "cell_type": "code",
   "execution_count": 2,
   "id": "fd14e33e",
   "metadata": {},
   "outputs": [
    {
     "data": {
      "text/plain": [
       "True"
      ]
     },
     "execution_count": 2,
     "metadata": {},
     "output_type": "execute_result"
    }
   ],
   "source": [
    "model_available()"
   ]
  },
  {
   "cell_type": "code",
   "execution_count": 3,
   "id": "c3c2aedf",
   "metadata": {},
   "outputs": [
    {
     "data": {
      "text/plain": [
       "True"
      ]
     },
     "execution_count": 3,
     "metadata": {},
     "output_type": "execute_result"
    }
   ],
   "source": [
    "metric_measurement_available()"
   ]
  },
  {
   "cell_type": "code",
   "execution_count": 4,
   "id": "f5453482",
   "metadata": {},
   "outputs": [
    {
     "data": {
      "text/plain": [
       "True"
      ]
     },
     "execution_count": 4,
     "metadata": {},
     "output_type": "execute_result"
    }
   ],
   "source": [
    "test_data_set_available()"
   ]
  },
  {
   "cell_type": "code",
   "execution_count": 5,
   "id": "f0b3ca8f",
   "metadata": {},
   "outputs": [
    {
     "data": {
      "text/plain": [
       "True"
      ]
     },
     "execution_count": 5,
     "metadata": {},
     "output_type": "execute_result"
    }
   ],
   "source": [
    "demographic_parity_measure()"
   ]
  },
  {
   "cell_type": "code",
   "execution_count": 6,
   "id": "b0fa8603",
   "metadata": {},
   "outputs": [
    {
     "data": {
      "text/plain": [
       "True"
      ]
     },
     "execution_count": 6,
     "metadata": {},
     "output_type": "execute_result"
    }
   ],
   "source": [
    "threshold_level_is_defined ()"
   ]
  },
  {
   "cell_type": "code",
   "execution_count": 7,
   "id": "6e95b695",
   "metadata": {},
   "outputs": [
    {
     "data": {
      "text/plain": [
       "True"
      ]
     },
     "execution_count": 7,
     "metadata": {},
     "output_type": "execute_result"
    }
   ],
   "source": [
    "verifying_acceptance_threshold()"
   ]
  },
  {
   "cell_type": "code",
   "execution_count": null,
   "id": "5bea263d",
   "metadata": {},
   "outputs": [],
   "source": []
  }
 ],
 "metadata": {
  "kernelspec": {
   "display_name": ".venv",
   "language": "python",
   "name": "python3"
  },
  "language_info": {
   "codemirror_mode": {
    "name": "ipython",
    "version": 3
   },
   "file_extension": ".py",
   "mimetype": "text/x-python",
   "name": "python",
   "nbconvert_exporter": "python",
   "pygments_lexer": "ipython3",
   "version": "3.11.0"
  }
 },
 "nbformat": 4,
 "nbformat_minor": 5
}
